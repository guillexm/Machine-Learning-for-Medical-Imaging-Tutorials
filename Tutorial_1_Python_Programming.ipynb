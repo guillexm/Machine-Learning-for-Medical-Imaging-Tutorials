{
  "nbformat": 4,
  "nbformat_minor": 0,
  "metadata": {
    "colab": {
      "provenance": []
    },
    "kernelspec": {
      "name": "python3",
      "display_name": "Python 3"
    },
    "language_info": {
      "name": "python"
    }
  },
  "cells": [
    {
      "cell_type": "markdown",
      "source": [
        "#Tutorial 1: Python Programming\n",
        "**By Guillermo Martin**\n",
        "\n",
        "Welcome to our first tutorial! We start from scratch and don't assume any programming experience. There is a lot to cover in these weekly tutorials, so if something doesn't make sense to you, please tell us.\n"
      ],
      "metadata": {
        "id": "_CXn7YnqyfIv"
      }
    },
    {
      "cell_type": "markdown",
      "source": [
        "##Good Coding Practices\n",
        "Code comments are very important for code readability and maintainability. They are preceded by a hash and will be ignored by the interpreter, which is the software that will execute your Python code. Please use them to describe what your code is doing, as otherwise you may forget what your code is intended to do."
      ],
      "metadata": {
        "id": "9w1q_Rs6cVy6"
      }
    },
    {
      "cell_type": "code",
      "source": [
        "#This is a comment\n",
        "#This is another comment"
      ],
      "metadata": {
        "id": "ORia4t7L1oOe"
      },
      "execution_count": null,
      "outputs": []
    },
    {
      "cell_type": "markdown",
      "source": [
        "Now, we will demonstrate what is arguably the simplest Python program: a program that merely prints the string 'Hello World'. A **string** is a sequence of characters—you can think of it as text. We will explore later how you can manipulate strings in some interesting ways."
      ],
      "metadata": {
        "id": "ju0EnEIY1v13"
      }
    },
    {
      "cell_type": "code",
      "source": [
        "print(\"Hello World\")"
      ],
      "metadata": {
        "colab": {
          "base_uri": "https://localhost:8080/"
        },
        "id": "EXqMOruG2JWp",
        "outputId": "25e00cfa-d0fc-4a88-eb24-9eac5738f0f5"
      },
      "execution_count": null,
      "outputs": [
        {
          "output_type": "stream",
          "name": "stdout",
          "text": [
            "Hello World\n"
          ]
        }
      ]
    },
    {
      "cell_type": "markdown",
      "source": [
        "A **variable** contains a data item and is referred to by a symbolic name."
      ],
      "metadata": {
        "id": "E9fRb6p-2WI3"
      }
    },
    {
      "cell_type": "code",
      "execution_count": null,
      "metadata": {
        "id": "tv6UFb-IqgXY"
      },
      "outputs": [],
      "source": [
        "var = 2"
      ]
    },
    {
      "cell_type": "markdown",
      "source": [
        "This variable is named 'var' and contains the number 2, which is an integer. In this case, we have chosen to name our variable 'var.' However, as our code grows and becomes more complex, we may later regret this choice and end up forgetting the variable's intended purpose. It is considered good practice to select a name that describes your variable, including what it represents and how it is used, rather than opting for overly simplistic names such as 'a,' 'b,' or 'var.' Keep in mind that you cannot use **reserved** words as 'if' or 'list' for variable names, and your variable name cannot start with a digit."
      ],
      "metadata": {
        "id": "ZVhWySUh2yuo"
      }
    },
    {
      "cell_type": "code",
      "source": [
        "iAmAString = \"this is a string\""
      ],
      "metadata": {
        "id": "v1Mj4FaG3P0R"
      },
      "execution_count": null,
      "outputs": []
    },
    {
      "cell_type": "markdown",
      "source": [
        "This variable is named 'iAmAString' and contains the string 'this is a string'. Now, let's go ahead and print our newly created variables."
      ],
      "metadata": {
        "id": "q2MHoOSa3Nwn"
      }
    },
    {
      "cell_type": "code",
      "source": [
        "print(var)\n",
        "print(iAmAString)"
      ],
      "metadata": {
        "colab": {
          "base_uri": "https://localhost:8080/"
        },
        "id": "l5gPhV1L3blS",
        "outputId": "49c0d2aa-f1c6-4fd5-b96f-9615fe7b4074"
      },
      "execution_count": null,
      "outputs": [
        {
          "output_type": "stream",
          "name": "stdout",
          "text": [
            "2\n",
            "this is a string\n"
          ]
        }
      ]
    },
    {
      "cell_type": "markdown",
      "source": [
        "##String manipulation\n",
        "You can **concatenate** (i.e. add) strings together as follows."
      ],
      "metadata": {
        "id": "veT914FWyJEV"
      }
    },
    {
      "cell_type": "code",
      "source": [
        "#string1 is an empty string, a string cointaining no characters\n",
        "string1 = \"\"\n",
        "#now add a string, we use \"+=\" for that.\n",
        "#a+=b is equivalent to a=a+b, that is, we replace the current value of a by a+b.\n",
        "#Note that in programming \"=\" does not mean equality, but assignment\n",
        "string1 += \"Hello\"\n",
        "name = \"World\"\n",
        "print(string1 + \" \" + name + \"!\")"
      ],
      "metadata": {
        "colab": {
          "base_uri": "https://localhost:8080/"
        },
        "id": "ziD4zl7fySV7",
        "outputId": "1ba6771e-94d8-4bce-d645-9b0c377f48f8"
      },
      "execution_count": null,
      "outputs": [
        {
          "output_type": "stream",
          "name": "stdout",
          "text": [
            "Hello World!\n"
          ]
        }
      ]
    },
    {
      "cell_type": "markdown",
      "source": [
        "We can cast, i.e. \"convert\", a number to a string with the str() method. This is convenient if you want to print a string with numerical values."
      ],
      "metadata": {
        "id": "KnEEn4MdzF2K"
      }
    },
    {
      "cell_type": "code",
      "source": [
        "number = 102\n",
        "stringOfThatNumber = str(number)\n",
        "print(\"The number is \" + stringOfThatNumber)\n",
        "#note that we would get an error if we tried to print(\"This number is \" + 102)\n",
        "#as we cannot directly concatenate a number to a string!"
      ],
      "metadata": {
        "colab": {
          "base_uri": "https://localhost:8080/"
        },
        "id": "POdR5jHzzUa8",
        "outputId": "28b8de98-abf3-45a5-f2dd-dfff9a6a36e3"
      },
      "execution_count": null,
      "outputs": [
        {
          "output_type": "stream",
          "name": "stdout",
          "text": [
            "The number is 102\n"
          ]
        }
      ]
    },
    {
      "cell_type": "markdown",
      "source": [
        "Note: print() is a method that prints strings. You may give an integer as an argument to print, e.g *print(20)*, and Python will convert 20 to a string. But be careful, you are not allowed to directly concatenate a number to a string!"
      ],
      "metadata": {
        "id": "dLBUmvVI1ulk"
      }
    },
    {
      "cell_type": "markdown",
      "source": [
        "##Lists\n",
        "A list in Python is, as the name suggests, a list of data items. It is actually a bit more complicated than that, but for the time being, this will suffice. The basic syntax is [element, element, element, ...] .\n",
        "\n"
      ],
      "metadata": {
        "id": "T9UKflgs4fSs"
      }
    },
    {
      "cell_type": "code",
      "source": [
        "#A list containing integers\n",
        "listOfIntegers = [1, 3, 5, 10]\n",
        "\n",
        "#Your list may contain strings and decimal numbers (called floats) as well!\n",
        "mixedList = [2, \"hi\", \"abc\", 10.3]\n",
        "\n",
        "#We may decide to include variables on our list\n",
        "variable1 = \"random\"\n",
        "variable2 = 10.3\n",
        "variable3 = 505\n",
        "\n",
        "anotherMixedList = [3, 4, variable1, variable2, \"yes\", variable3]\n",
        "\n",
        "#Let's print our lists\n",
        "print(listOfIntegers, mixedList, anotherMixedList)"
      ],
      "metadata": {
        "colab": {
          "base_uri": "https://localhost:8080/"
        },
        "id": "bP5LIKNeOE4N",
        "outputId": "82a00a70-819c-4cad-b1b7-d06ea6bce6ca"
      },
      "execution_count": null,
      "outputs": [
        {
          "output_type": "stream",
          "name": "stdout",
          "text": [
            "[1, 3, 5, 10] [2, 'hi', 'abc', 10.3] [3, 4, 'random', 10.3, 'yes', 505]\n"
          ]
        }
      ]
    },
    {
      "cell_type": "markdown",
      "source": [
        "###List Manipulation\n",
        "Manipulating lists is very important in programming in general."
      ],
      "metadata": {
        "id": "1gWo9WpbQKml"
      }
    },
    {
      "cell_type": "code",
      "source": [
        "#First we create an empty list\n",
        "aList = []\n",
        "#We can add an element by using the .append() method:\n",
        "aList.append(10)\n",
        "#Let's add more elements\n",
        "aList.append(\"hi\")\n",
        "aList.append(\"\")\n",
        "\n",
        "print(aList)"
      ],
      "metadata": {
        "id": "ew7mlqeYRFpA",
        "colab": {
          "base_uri": "https://localhost:8080/"
        },
        "outputId": "46ce1f6c-7011-4a81-e277-d4e9cad1edf2"
      },
      "execution_count": null,
      "outputs": [
        {
          "output_type": "stream",
          "name": "stdout",
          "text": [
            "[10, 'hi', '']\n"
          ]
        }
      ]
    },
    {
      "cell_type": "code",
      "source": [
        "#Let's remove an element from the list\n",
        "aList.remove(10)\n",
        "\n",
        "print(aList)"
      ],
      "metadata": {
        "colab": {
          "base_uri": "https://localhost:8080/"
        },
        "id": "xOD-xUtewsfZ",
        "outputId": "85c1b108-67f2-400b-b586-210c09a542cc"
      },
      "execution_count": null,
      "outputs": [
        {
          "output_type": "stream",
          "name": "stdout",
          "text": [
            "['hi', '']\n"
          ]
        }
      ]
    },
    {
      "cell_type": "markdown",
      "source": [
        "###Indexing\n",
        "Every element in the list has an **index**. The first element has index **0**, the second element has index **1**, and so on. This may sound a bit confusing at first, but the convention is very useful. You can access elements of the list by \"nameOfList[index]\""
      ],
      "metadata": {
        "id": "Plhagf3Z2hs8"
      }
    },
    {
      "cell_type": "code",
      "source": [
        "print(aList[0])"
      ],
      "metadata": {
        "colab": {
          "base_uri": "https://localhost:8080/"
        },
        "id": "M6cxNDa-21QO",
        "outputId": "923d0af7-4802-41e7-e920-5b6b57336b2c"
      },
      "execution_count": null,
      "outputs": [
        {
          "output_type": "stream",
          "name": "stdout",
          "text": [
            "hi\n"
          ]
        }
      ]
    },
    {
      "cell_type": "code",
      "source": [
        "#you may even change elements of that list!\n",
        "aList[1] = \"changed!\"\n",
        "print(aList)"
      ],
      "metadata": {
        "colab": {
          "base_uri": "https://localhost:8080/"
        },
        "id": "jW6hDE042_TS",
        "outputId": "3060630f-d74a-4b17-b7bd-709a6a824352"
      },
      "execution_count": null,
      "outputs": [
        {
          "output_type": "stream",
          "name": "stdout",
          "text": [
            "['hi', 'changed!']\n"
          ]
        }
      ]
    },
    {
      "cell_type": "code",
      "source": [
        "#to access the last element of the list we can use index 2\n",
        "#but in general we can also access it with index -1! (convention)\n",
        "print(aList[-1])"
      ],
      "metadata": {
        "colab": {
          "base_uri": "https://localhost:8080/"
        },
        "id": "bfTsFuhS3qcQ",
        "outputId": "4644df60-ab9a-4b66-b5ec-b0230398220f"
      },
      "execution_count": null,
      "outputs": [
        {
          "output_type": "stream",
          "name": "stdout",
          "text": [
            "changed!\n"
          ]
        }
      ]
    },
    {
      "cell_type": "markdown",
      "source": [
        "###Warning: lists are objects\n",
        "Lists can be a bit tricky. When you create a list, say 'list1', and store it in a variable, say 'var1', variable 'var1' is actually just a 'reference' the list 'list1'. If you modify either 'list1' or 'var1,' both 'list1' and 'var1' will be affected, which may not be the behavior you expect."
      ],
      "metadata": {
        "id": "jvqiiMmm5Es0"
      }
    },
    {
      "cell_type": "code",
      "source": [
        "list1 = [1, 2, 3, 10]\n",
        "var1 = list1\n",
        "var1[0] = \"element changed!\"\n",
        "\n",
        "print(list1)\n",
        "print(var1)\n",
        "#list1 is modified even if we didn't \"explicitly\" change it!"
      ],
      "metadata": {
        "colab": {
          "base_uri": "https://localhost:8080/"
        },
        "id": "HrzZ_5fD59o1",
        "outputId": "b02a77ee-57d9-49d6-e831-e5ec10c0ba54"
      },
      "execution_count": null,
      "outputs": [
        {
          "output_type": "stream",
          "name": "stdout",
          "text": [
            "['element changed!', 2, 3, 10]\n",
            "['element changed!', 2, 3, 10]\n"
          ]
        }
      ]
    },
    {
      "cell_type": "code",
      "source": [
        "#if you want to make a copy of list1 that is independent of any posterior\n",
        "#changes to list1 and can be modified without affecting list1,\n",
        "#we can use the .copy() method\n",
        "list1 = [1, 2, 3, 10]\n",
        "copyOfList1 = list1.copy()\n",
        "copyOfList1[0] = \"element changed!\"\n",
        "\n",
        "print(list1)\n",
        "print(copyOfList1)"
      ],
      "metadata": {
        "colab": {
          "base_uri": "https://localhost:8080/"
        },
        "id": "llDsaEd--4Bn",
        "outputId": "14849939-9c40-4772-e848-df872e5b7ac5"
      },
      "execution_count": null,
      "outputs": [
        {
          "output_type": "stream",
          "name": "stdout",
          "text": [
            "[1, 2, 3, 10]\n",
            "['element changed!', 2, 3, 10]\n"
          ]
        }
      ]
    },
    {
      "cell_type": "markdown",
      "source": [
        "##If-else statements\n",
        "Suppose you want to execute a piece of code **if** a condition holds, or **else**, execute another piece of code if the condition doesn't hold. We can use an if-else statement. Note the use of **indentation**, a space at the beginning of a line, as follows."
      ],
      "metadata": {
        "id": "dSwxVswGsh9n"
      }
    },
    {
      "cell_type": "code",
      "source": [
        "n = 109\n",
        "if n < 10: #the syntax is \"if + [condition]:\"\n",
        "  print(\"This number is less than 10\") #note the indentation\n",
        "#else, if n is not less than 10\n",
        "else:\n",
        "  print(\"This number is not less to 10\")\n",
        "  print(\"Sorry!\") #note the indentation"
      ],
      "metadata": {
        "colab": {
          "base_uri": "https://localhost:8080/"
        },
        "id": "qzDtzuU2sy-j",
        "outputId": "6f609807-6576-4287-e39e-706f0201010d"
      },
      "execution_count": null,
      "outputs": [
        {
          "output_type": "stream",
          "name": "stdout",
          "text": [
            "This number is not less to 10\n",
            "Sorry!\n"
          ]
        }
      ]
    },
    {
      "cell_type": "markdown",
      "source": [
        "In Python, it's compulsory to have proper indentation as otherwise the interpreter will raise an error. Note that your if statements are not required to be followed by an else statement, i.e. you may just have an *if* statement that will be executed if the condition after the keyword *if* is met.\n",
        "\n",
        "After an if statement, you can also include **elif** statements. These can be interpreted as *else if* statements and will be executed if none of the previous conditions have been met, and the condition following the *elif* keyword is satisfied. Note that if you want to check if a variable is equal to a value, you should use '**==**' instead of '=', and if you want to check for inequality, use '**!=**'."
      ],
      "metadata": {
        "id": "IStBncvqs5Vd"
      }
    },
    {
      "cell_type": "code",
      "source": [
        "if n == 10:\n",
        "  print(\"this number is equal to 10!\")\n",
        "#else, if n is not equal to 10, and n <= 9\n",
        "elif n <= 9:\n",
        "  print(\"this number is less or equal than 9\")\n",
        "#else, if no condition above has been met, and n > 1000\n",
        "elif n > 1000:\n",
        "  print(\"this number is bigger than 1000\")\n",
        "#finally an else statement, which is executed if no condition so far was met\n",
        "else:\n",
        "  print(\"Your number is between 11 and 1000!\")"
      ],
      "metadata": {
        "colab": {
          "base_uri": "https://localhost:8080/"
        },
        "id": "iAtN7xkUtM0S",
        "outputId": "7e6e8267-ea7f-4f99-b985-ba907717ccfa"
      },
      "execution_count": null,
      "outputs": [
        {
          "output_type": "stream",
          "name": "stdout",
          "text": [
            "Your number is between 11 and 1000!\n"
          ]
        }
      ]
    },
    {
      "cell_type": "markdown",
      "source": [
        "##While loops\n",
        "If you want to repeatedly execute a piece of code while a condition is true, you can use **while loops**."
      ],
      "metadata": {
        "id": "O1ZZuQLhJwu_"
      }
    },
    {
      "cell_type": "code",
      "source": [
        "i = 0\n",
        "while i < 10: #the syntax is \"while + [condition]:\"\n",
        "  print(\"i < 10, as i = \" + str(i))\n",
        "  #now increase i by one\n",
        "  #note we could also write i = i+1\n",
        "  i += 1\n",
        "\n",
        "#after the while loop body is executed, i.e. we exit the loop,\n",
        "#we can still write more code\n",
        "print(\"i is now equal to 10!\")"
      ],
      "metadata": {
        "colab": {
          "base_uri": "https://localhost:8080/"
        },
        "id": "fdUBLi4nJ2xz",
        "outputId": "a8bd7959-6e47-4dc0-d250-0ddc14092b77"
      },
      "execution_count": null,
      "outputs": [
        {
          "output_type": "stream",
          "name": "stdout",
          "text": [
            "i < 10, as i = 0\n",
            "i < 10, as i = 1\n",
            "i < 10, as i = 2\n",
            "i < 10, as i = 3\n",
            "i < 10, as i = 4\n",
            "i < 10, as i = 5\n",
            "i < 10, as i = 6\n",
            "i < 10, as i = 7\n",
            "i < 10, as i = 8\n",
            "i < 10, as i = 9\n",
            "i is now equal to 10!\n"
          ]
        }
      ]
    },
    {
      "cell_type": "markdown",
      "source": [
        "Note the indentation on the whole body of the while."
      ],
      "metadata": {
        "id": "WoF7ZMJb87vW"
      }
    },
    {
      "cell_type": "markdown",
      "source": [
        "##For loops\n",
        "Arguably, **for** loops are the most important type of loop. Say that you have a list of elements, and for every element on that list you want to execute some code. We can do that as follows."
      ],
      "metadata": {
        "id": "BcUh2ZVx0psj"
      }
    },
    {
      "cell_type": "code",
      "source": [
        "aList = [1, 3, 4, 2, 10, 3, 1]\n",
        "#Suppose we want to print each element of aList plus 1\n",
        "for element in aList:\n",
        "  print(element+1)"
      ],
      "metadata": {
        "colab": {
          "base_uri": "https://localhost:8080/"
        },
        "id": "WMt8n-Ru08CO",
        "outputId": "de76578d-a3d0-45fd-b8b8-62011f921b9b"
      },
      "execution_count": null,
      "outputs": [
        {
          "output_type": "stream",
          "name": "stdout",
          "text": [
            "2\n",
            "4\n",
            "5\n",
            "3\n",
            "11\n",
            "4\n",
            "2\n"
          ]
        }
      ]
    },
    {
      "cell_type": "markdown",
      "source": [
        "Note that instead of \"element\" we can write any variable name:"
      ],
      "metadata": {
        "id": "i685Oei14Keh"
      }
    },
    {
      "cell_type": "code",
      "source": [
        "for randomName_9 in aList:\n",
        "  print(randomName_9+1)"
      ],
      "metadata": {
        "colab": {
          "base_uri": "https://localhost:8080/"
        },
        "id": "ogH6U_Ud4Oy_",
        "outputId": "533c9bd9-b6d4-401d-9920-9f5591131e08"
      },
      "execution_count": null,
      "outputs": [
        {
          "output_type": "stream",
          "name": "stdout",
          "text": [
            "2\n",
            "4\n",
            "5\n",
            "3\n",
            "11\n",
            "4\n",
            "2\n"
          ]
        }
      ]
    },
    {
      "cell_type": "markdown",
      "source": [
        "range(start, stop) gives us a sequence of numbers from **start** to **stop - 1**,  e.g. range(1, 5) gives us the sequence 1, 2, 3, 4. range(stop) gives a sequence of numbers from **0** to **stop - 1**."
      ],
      "metadata": {
        "id": "xgAKpPeqCPDq"
      }
    },
    {
      "cell_type": "code",
      "source": [
        "for i in range(5): #for each value in the sequence 0, 1, 2, 3, 4\n",
        "  print(i)"
      ],
      "metadata": {
        "colab": {
          "base_uri": "https://localhost:8080/"
        },
        "id": "BPFQRLCvCXNe",
        "outputId": "a90e9a8d-e2fb-42ed-b5db-de472426be21"
      },
      "execution_count": null,
      "outputs": [
        {
          "output_type": "stream",
          "name": "stdout",
          "text": [
            "0\n",
            "1\n",
            "2\n",
            "3\n",
            "4\n",
            "[0, 1, 2, 3, 4]\n"
          ]
        }
      ]
    },
    {
      "cell_type": "markdown",
      "source": [
        "Note that range gives us a sequence, not a list! Also note the following alternative syntax for the print function with commas - the commas will be replaced by spaces and the *objects* between the commas will be casted to strings if they are not strings already!"
      ],
      "metadata": {
        "id": "dLdPu8gkiX6F"
      }
    },
    {
      "cell_type": "code",
      "source": [
        "print(\"Range object:\", range(5), \". It isn't a list!\") #we don't have to cast range(5) into a string with this syntax!\n",
        "l = list(range(5)) #convert a range object (sequence) into a list\n",
        "print(\"Range object coverted to a list:\", l, \". It is a list!\")"
      ],
      "metadata": {
        "colab": {
          "base_uri": "https://localhost:8080/"
        },
        "id": "fgX5xQWjhvUZ",
        "outputId": "304b267e-b1fb-431b-f981-ce34a66ce904"
      },
      "execution_count": null,
      "outputs": [
        {
          "output_type": "stream",
          "name": "stdout",
          "text": [
            "Range object: range(0, 5) . It isn't a list!\n",
            "Range object coverted to a list: [0, 1, 2, 3, 4] . It is a list!\n"
          ]
        }
      ]
    },
    {
      "cell_type": "markdown",
      "source": [
        "Let's modify a list using **for** loops. Note that len(list) will return the length of your list."
      ],
      "metadata": {
        "id": "CmCV97AQC6ZP"
      }
    },
    {
      "cell_type": "code",
      "source": [
        "l = [2, 2, 0, 1, 5, 6]\n",
        "lengthOfl = len(l)\n",
        "for i in range(lengthOfl): #you could directly write this as \"for i in range(len(l)):\"\n",
        "  l[i] += 100\n",
        "print(l)"
      ],
      "metadata": {
        "colab": {
          "base_uri": "https://localhost:8080/"
        },
        "id": "rWzs4jL-DDtH",
        "outputId": "a6945f01-7414-4ad8-e321-657d97edc05d"
      },
      "execution_count": null,
      "outputs": [
        {
          "output_type": "stream",
          "name": "stdout",
          "text": [
            "[102, 102, 100, 101, 105, 106]\n"
          ]
        }
      ]
    },
    {
      "cell_type": "markdown",
      "source": [
        "There is a more \"pythonic\" way to do so:"
      ],
      "metadata": {
        "id": "JRF04oFTDapQ"
      }
    },
    {
      "cell_type": "code",
      "source": [
        " l = [2, 2, 0, 1, 5, 6]\n",
        " #Now we add 100 to every element of l\n",
        " l = [element + 100 for element in l]  #element can be named with any other name (e.g \"el\")\n",
        " print(l)"
      ],
      "metadata": {
        "colab": {
          "base_uri": "https://localhost:8080/"
        },
        "id": "5mCd6vqQDdA6",
        "outputId": "035db197-48b8-4580-c9e1-65a6ed2a95b7"
      },
      "execution_count": null,
      "outputs": [
        {
          "output_type": "stream",
          "name": "stdout",
          "text": [
            "[102, 102, 100, 101, 105, 106]\n"
          ]
        }
      ]
    },
    {
      "cell_type": "markdown",
      "source": [
        "##Functions\n",
        "We can define **functions**, which are blocks of code that take one or several parameters, execute the code on the body of the function, and then (optionally) return something."
      ],
      "metadata": {
        "id": "X7Mro89I_ii5"
      }
    },
    {
      "cell_type": "code",
      "source": [
        "def twiceTheSum(par1, par2): #this function takes 2 variables\n",
        "  sum = par1+par2            #adds them in a new variable \"sum\"\n",
        "  doublesum = 2*sum          #multiplies the result by 2 and stores the value in \"doublesum\"\n",
        "  return doublesum           #returns the doublesum result"
      ],
      "metadata": {
        "id": "Xk1f6sLo_tk_"
      },
      "execution_count": null,
      "outputs": []
    },
    {
      "cell_type": "markdown",
      "source": [
        "The above code is just the definition of our function. To use our function we need to explicitly call it and give it parameters."
      ],
      "metadata": {
        "id": "xie1t8Dt_6un"
      }
    },
    {
      "cell_type": "code",
      "source": [
        "number1 = 20\n",
        "number2 = 19\n",
        "result = twiceTheSum(number1, number2) #this line of code will call the function twiceTheSum, with parameters\n",
        "                                       #number1 and number2, which will return twice the sum of\n",
        "                                       #number1+number2, and that will be stored in variable result\n",
        "print(result)"
      ],
      "metadata": {
        "colab": {
          "base_uri": "https://localhost:8080/"
        },
        "id": "zL9IDuamAA07",
        "outputId": "3cc5417d-71e6-4880-bb94-b2c6b2ebd5eb"
      },
      "execution_count": null,
      "outputs": [
        {
          "output_type": "stream",
          "name": "stdout",
          "text": [
            "78\n"
          ]
        }
      ]
    },
    {
      "cell_type": "markdown",
      "source": [
        "Note that inside the body of the function, the parameters are actually *just* copies of the actual parameter variables, *number1* and *number2* in this case. Modifying the parameters inside the body of the function will *not* actually change them outside the function, as shown by the following example."
      ],
      "metadata": {
        "id": "4rm8DzTBAXXP"
      }
    },
    {
      "cell_type": "code",
      "source": [
        "def thriceTheSum(number1, number2):\n",
        "  number1 *= 3 #this is the same as number1 = number1*3\n",
        "  number2 *= 3\n",
        "  triplesum = number1+number2\n",
        "  return triplesum\n",
        "\n",
        "number1 = 21\n",
        "number2 = 4\n",
        "sum = thriceTheSum(number1, number2)\n",
        "print(\"Thrice the sum of \" + str(number1) + \" and \" + str(number2) + \" is \" + str(sum))\n",
        "print(number1)\n",
        "print(number2)\n",
        "#After passing number1 and number2 as parameters to thriceTheSum one may think their values would be multiplied by 3\n",
        "#but this example shows that isn't the case! thriceTheSum works with copies of the parameter variables\n",
        "#this is an example of variable scope"
      ],
      "metadata": {
        "colab": {
          "base_uri": "https://localhost:8080/"
        },
        "id": "KPgb69JrBA7i",
        "outputId": "3adad6c0-9247-41cd-9787-16b27ed32060"
      },
      "execution_count": null,
      "outputs": [
        {
          "output_type": "stream",
          "name": "stdout",
          "text": [
            "Thrice the sum of 21 and 4 is 75\n",
            "21\n",
            "4\n"
          ]
        }
      ]
    },
    {
      "cell_type": "markdown",
      "source": [
        "##Plotting\n",
        "If we have two lists, we can plot one list against another. For that, we need to import pyplot from matplotlib:"
      ],
      "metadata": {
        "id": "TcaCZGK3HYFg"
      }
    },
    {
      "cell_type": "code",
      "source": [
        "from matplotlib import pyplot as plt #this allows us to use the plot method from pyplot\n",
        "x_axis = [1, 2, 3, 4, 5, 8]\n",
        "y_axis = [1, 5, -5, 8, -7, 6]\n",
        "#we named our lists x_axis and y_axis, but we could have used other names\n",
        "plt.plot(x_axis, y_axis)\n",
        "#you can label the axis as\n",
        "plt.xlabel(\"x axis name\")\n",
        "plt.ylabel(\"y axis name\")\n",
        "#you can write the title of your graph as\n",
        "plt.title(\"My graph\")\n",
        "plt.show()"
      ],
      "metadata": {
        "colab": {
          "base_uri": "https://localhost:8080/",
          "height": 472
        },
        "id": "SMpeAy6THlR3",
        "outputId": "dd1d63b1-15ad-4adf-d912-12014c58bb33"
      },
      "execution_count": null,
      "outputs": [
        {
          "output_type": "display_data",
          "data": {
            "text/plain": [
              "<Figure size 640x480 with 1 Axes>"
            ],
            "image/png": "[encoded data removed]"
          },
          "metadata": {}
        }
      ]
    },
    {
      "cell_type": "markdown",
      "source": [
        "Note the length of both lists need to be the same, as each element with index *i* from the first list is associated to the element with index *i* of the second list. Now we will plot the function $x^2$ over the region $[-50,50]$."
      ],
      "metadata": {
        "id": "5pE7JIzrIZEH"
      }
    },
    {
      "cell_type": "code",
      "source": [
        "def squared(x):\n",
        "  #in python we use ** for the power operator (we cannot use \"^\")\n",
        "  return x**2\n",
        "x_axis =  list(range(-50, 51)) #this creates a list from the range sequence\n",
        "#thus x_axis = [-50, -49, ..., 0, ..., 49, 50]\n",
        "y_axis = []\n",
        "for i in range(len(x_axis)):\n",
        "  y_axis.append(squared(x_axis[i]))\n",
        "plt.plot(x_axis, y_axis)\n",
        "#label the axes\n",
        "plt.xlabel(\"x axis\")\n",
        "plt.ylabel(\"y axis\")\n",
        "#title of plot\n",
        "plt.title(\"y = x^2\")\n",
        "plt.show()"
      ],
      "metadata": {
        "colab": {
          "base_uri": "https://localhost:8080/",
          "height": 472
        },
        "id": "HLXYIGCwJRIR",
        "outputId": "bfd0a481-aa18-4a20-ad92-dd991bf17db6"
      },
      "execution_count": null,
      "outputs": [
        {
          "output_type": "display_data",
          "data": {
            "text/plain": [
              "<Figure size 640x480 with 1 Axes>"
            ],
            "image/png": "[encoded data removed]"
          },
          "metadata": {}
        }
      ]
    },
    {
      "cell_type": "markdown",
      "source": [
        "##Exercise\n",
        "Let $f(x) = a_n x^n + a_{n-1} x^{n-1} + ... + a_1 x_1 + a_0 x_0$ be an arbitrary polynomial, with list of coefficients $[a_n, a_{n-1}, ... , a_{1}, a_{0}].$\n",
        "Write a function that receives a list of coefficients of a polynomial as input, and plots the polynomial on $[0, 1]$.\n",
        "\n",
        "**Hint**: use a *for loop* that ranges through the list of coefficients (you can infer the degree associated with each coefficient by its index). To create a list that ranges over $[0, 1]$, you can create a list of numbers from $0$ to, say, $1000$ and then divide each element of that list by $1000$.\n",
        "##Where to go from here\n",
        "\n",
        "We have covered the basics of Python, but there is much more to explore. We highly recommend checking out the tutorials on www.w3schools.com/python/ and www.tutorialspoint.com/python/index.htm. Whenever you encounter a bug or come across an unfamiliar line of code, searching it online is always a good option. Stackoverflow is an especially good resource.\n",
        "\n",
        "See you next week!"
      ],
      "metadata": {
        "id": "69Wm9eN5EVD9"
      }
    }
  ]
}